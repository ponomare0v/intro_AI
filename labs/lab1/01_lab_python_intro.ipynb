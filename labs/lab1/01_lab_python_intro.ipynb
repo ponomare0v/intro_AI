{
 "cells": [
  {
   "cell_type": "markdown",
   "id": "596b4987",
   "metadata": {},
   "source": [
    "# Лабораторная работа №1\n",
    "\n",
    "ФИО:   \n",
    "Группа: \n",
    "\n",
    "Отправлять можно следующими способами:\n",
    "1. Создать **приватный** репозиторий на github, добавить меня по нику (l3lush) в Collaborators (Settings -> Collaborators -> Add people)\n",
    "\n",
    "Deadlines:\n",
    "- Занятие №5 в семестре (Занятие №1 очное)\n",
    "\n",
    "Что необходимо сделать:\n",
    "1. Заполнить все ячейки ниже кодом так, чтобы прошли все `assert`ы."
   ]
  },
  {
   "cell_type": "markdown",
   "id": "2213731a",
   "metadata": {},
   "source": [
    "# 0. Пример работы assert"
   ]
  },
  {
   "cell_type": "markdown",
   "id": "0dcee059",
   "metadata": {},
   "source": [
    "`assert` предназначен для проверки каких-либо условий.  \n",
    "Если условие истинно (возвращается `True`), код выполняется без ошибок, в противном случае выходит `AssertionError`.  <br />\n",
    "Ниже пример работы `assert`ов (в ячейке с примером `assert a > 6` можно оставить ошибку, но нигде далее в коде ошибок быть **не должно**)    <br />\n",
    "P.S. `assert`ы менять никак **нельзя**"
   ]
  },
  {
   "cell_type": "code",
   "execution_count": 1,
   "id": "31be897b",
   "metadata": {},
   "outputs": [],
   "source": [
    "a = 5\n",
    "assert a == 5  # assert проходит, т.к. a равно 0"
   ]
  },
  {
   "cell_type": "code",
   "execution_count": 2,
   "id": "139c9ca8",
   "metadata": {},
   "outputs": [
    {
     "ename": "AssertionError",
     "evalue": "",
     "output_type": "error",
     "traceback": [
      "\u001b[1;31m---------------------------------------------------------------------------\u001b[0m",
      "\u001b[1;31mAssertionError\u001b[0m                            Traceback (most recent call last)",
      "\u001b[1;32m~\\AppData\\Local\\Temp\\ipykernel_23792\\1589179466.py\u001b[0m in \u001b[0;36m<module>\u001b[1;34m\u001b[0m\n\u001b[1;32m----> 1\u001b[1;33m \u001b[1;32massert\u001b[0m \u001b[0ma\u001b[0m \u001b[1;33m>\u001b[0m \u001b[1;36m6\u001b[0m  \u001b[1;31m# assert не проходит, т.к. а не больше 6, выпадает ошибка\u001b[0m\u001b[1;33m\u001b[0m\u001b[1;33m\u001b[0m\u001b[0m\n\u001b[0m",
      "\u001b[1;31mAssertionError\u001b[0m: "
     ]
    }
   ],
   "source": [
    "assert a > 6  # assert не проходит, т.к. а не больше 6, выпадает ошибка"
   ]
  },
  {
   "cell_type": "markdown",
   "id": "a72f14da",
   "metadata": {},
   "source": [
    "# 1. Базовые типы переменных"
   ]
  },
  {
   "cell_type": "markdown",
   "id": "ccfb5acf",
   "metadata": {},
   "source": [
    "Создайте переменные так, чтобы они были объектами определенного типа (типы приведены в комментариях)."
   ]
  },
  {
   "cell_type": "code",
   "execution_count": 3,
   "id": "db46e8d6",
   "metadata": {},
   "outputs": [],
   "source": [
    "int_variable = 69  # int\n",
    "assert isinstance(int_variable, int)\n",
    "\n",
    "float_variable = 69.9  # float\n",
    "assert isinstance(float_variable, float)\n",
    "\n",
    "string_variable = ' ajvn  famkv'  # string\n",
    "assert isinstance(string_variable, str)\n",
    "\n",
    "bool_variable = True  # bool\n",
    "assert isinstance(bool_variable, bool)"
   ]
  },
  {
   "cell_type": "code",
   "execution_count": 6,
   "id": "ed1861a0",
   "metadata": {},
   "outputs": [],
   "source": [
    "list_variable = ['a', 2, 2.3, 'fdahga', False]  # list\n",
    "assert isinstance(list_variable, list)\n",
    "\n",
    "tuple_variable = ('a', 2)  # tuple\n",
    "assert isinstance(tuple_variable, tuple)\n",
    "\n",
    "set_variable = {2, 3, 4, 4, 4, 69}  # set\n",
    "assert isinstance(set_variable, set)\n",
    "\n",
    "dict_variable = {'name': 'Ivan', 'countPets': 3, 'namesPets': [1, 2, 3]}  # dict\n",
    "assert isinstance(dict_variable, dict)"
   ]
  },
  {
   "cell_type": "markdown",
   "id": "00ec06c0",
   "metadata": {},
   "source": [
    "<br>"
   ]
  },
  {
   "cell_type": "markdown",
   "id": "52830470",
   "metadata": {},
   "source": [
    "# 2.1 Различные функции"
   ]
  },
  {
   "cell_type": "code",
   "execution_count": 7,
   "id": "3eb16cbe",
   "metadata": {},
   "outputs": [],
   "source": [
    "def difference_of_two_numbers(first, second):\n",
    "    \"\"\"Возвращает разницу между первым и вторым аргументом\"\"\"\n",
    "    # TODO: напиши меня\n",
    "    return first - second\n",
    "    pass\n",
    "\n",
    "\n",
    "assert difference_of_two_numbers(2, 1) == 1\n",
    "assert difference_of_two_numbers(4, 1) == 3\n",
    "assert difference_of_two_numbers(10, 0) == 10\n",
    "assert difference_of_two_numbers(-5, -6) == 1"
   ]
  },
  {
   "cell_type": "code",
   "execution_count": 16,
   "id": "65ff4881",
   "metadata": {},
   "outputs": [],
   "source": [
    "def condition_function(input_number):\n",
    "    \"\"\"\n",
    "    Если входное число меньше либо равно 0, то умножить его на 2.\n",
    "    В противном случае, если число больше 0, но меньше или равно 10, умножить на 3.\n",
    "    Во всех прочих случаях поделить на 10.\n",
    "    \"\"\"\n",
    "    # TODO: напиши меня\n",
    "    if input_number <= 0:\n",
    "        input_number *= 2\n",
    "    elif 10 >= input_number > 0:\n",
    "        input_number *= 3\n",
    "    else:\n",
    "        input_number /= 10\n",
    "\n",
    "    return input_number\n",
    "    pass\n",
    "\n",
    "\n",
    "assert condition_function(0) == 0\n",
    "assert condition_function(-1) == -2\n",
    "assert condition_function(1) == 3\n",
    "assert condition_function(10) == 30\n",
    "assert condition_function(11) == 1.1\n",
    "assert condition_function(20) == 2"
   ]
  },
  {
   "cell_type": "code",
   "execution_count": 17,
   "id": "51264059",
   "metadata": {},
   "outputs": [],
   "source": [
    "def calculator(number_1, operation, number_2):\n",
    "    \"\"\"\n",
    "    Простой оператор, способный выполнять операции +, -, *, /.\n",
    "    На входе первое число, операция в виде строки и второе число.\n",
    "    \n",
    "    Пример: \n",
    "    >>> calculator(1, \"+\", 1)\n",
    "    >>> 2\n",
    "    \"\"\"\n",
    "    # TODO: напиши меня\n",
    "    if operation == '+':\n",
    "        return number_1 + number_2\n",
    "    elif operation == '-':\n",
    "        return number_1 - number_2\n",
    "    elif operation == '*':\n",
    "        return number_1 * number_2\n",
    "    elif operation == '/':\n",
    "        return number_1 / number_2\n",
    "    pass\n",
    "\n",
    "\n",
    "assert calculator(1, \"+\", 2) == 3\n",
    "assert calculator(3, \"-\", 1) == 2\n",
    "assert calculator(4, \"*\", 3) == 12\n",
    "assert calculator(2, \"/\", 2) == 1"
   ]
  },
  {
   "cell_type": "code",
   "execution_count": 19,
   "id": "02255ff4",
   "metadata": {},
   "outputs": [],
   "source": [
    "def number_of_unique_elements(input_list):\n",
    "    \"\"\"\n",
    "    Считает количество уникальных элементов в листе.\n",
    "    \"\"\"\n",
    "    # TODO: напиши меня\n",
    "    s = set(input_list)\n",
    "    return len(s)\n",
    "    pass\n",
    "\n",
    "\n",
    "assert number_of_unique_elements([1, 2, 3]) == 3\n",
    "assert number_of_unique_elements([1] * 93) == 1\n",
    "assert number_of_unique_elements(list(range(1000))) == 1000"
   ]
  },
  {
   "cell_type": "code",
   "execution_count": 29,
   "id": "2a2a2363",
   "metadata": {},
   "outputs": [
    {
     "name": "stdout",
     "output_type": "stream",
     "text": [
      "{1: 3, 2: 1, 3: 1}\n"
     ]
    }
   ],
   "source": [
    "def counter(input_list):\n",
    "    \"\"\"\n",
    "    Считает количество вхождений каждого из элементов листа.\n",
    "    Возвращает словарь вида {число: количество вхождений}\n",
    "    \n",
    "    Замечание (!): встроенным в collections Counter'ом пользоваться нельзя\n",
    "    \n",
    "    Например:\n",
    "    counter([1, 1, 2, 3]) вернет {1: 2, 2: 1, 3: 1}\n",
    "    \"\"\"\n",
    "    # TODO: напиши меня\n",
    "    keys = set(input_list)\n",
    "    dict = {key: 0 for key in keys} # генератор словаря\n",
    "    \n",
    "    for item in input_list:\n",
    "        dict[item] += 1\n",
    "\n",
    "    return dict\n",
    "    pass\n",
    "\n",
    "assert counter([1, 1, 1, 2, 3]) == {1: 3, 2: 1, 3: 1}\n",
    "assert counter([1] * 1000) == {1: 1000}\n",
    "assert counter([1, 3, 5] * 100) == {1: 100, 3: 100, 5: 100}"
   ]
  },
  {
   "cell_type": "code",
   "execution_count": 44,
   "id": "c1498018",
   "metadata": {},
   "outputs": [],
   "source": [
    "def multiply_nums(input_string):\n",
    "    \"\"\"\n",
    "    Перемножить числа, переданные в строке, перечисленные через запятую.\n",
    "    \n",
    "    hint: можно использовать метод .split()\n",
    "    \"\"\"\n",
    "    # TODO: напиши меня\n",
    "    nums = list(map(int, input_string.split(', ')))\n",
    "    \n",
    "    rez = 1\n",
    "    for item in nums:\n",
    "        rez *= item\n",
    "\n",
    "    return rez\n",
    "    pass\n",
    "\n",
    "\n",
    "assert multiply_nums(\"2, 3\") == 6\n",
    "assert multiply_nums(\"1, 1, 1, 1, 1, 1, 1\") == 1\n",
    "assert multiply_nums(\"345, 4576, 794, 325, 0\") == 0"
   ]
  },
  {
   "cell_type": "markdown",
   "id": "202c838a",
   "metadata": {},
   "source": [
    "Реализуйте следующую функцию:\n",
    "$$\n",
    "y = sin(x)\\cdot cos(x)\n",
    "$$\n",
    "P.S. используйте библиотеку `math`"
   ]
  },
  {
   "cell_type": "code",
   "execution_count": 46,
   "id": "4121596c",
   "metadata": {},
   "outputs": [],
   "source": [
    "import math\n",
    "\n",
    "def custom_function(x):\n",
    "    \"\"\"\n",
    "    Реализуйте функцию, описанную выше.\n",
    "    \"\"\"\n",
    "    # TODO: напиши меня\n",
    "    return math.sin(x) * math.cos(x)\n",
    "    pass\n",
    "\n",
    "assert round(custom_function(1), 3) == 0.455\n",
    "assert round(custom_function(1.5), 3) == 0.071\n",
    "assert round(custom_function(2), 3) == -0.378\n",
    "assert custom_function(0) == 0"
   ]
  },
  {
   "cell_type": "markdown",
   "id": "7a2210d6",
   "metadata": {},
   "source": [
    "Реализуйте следующую функцию:\n",
    "$$\n",
    "y = \\prod\\limits_{n = 1}^n \\frac{(n+2)^x + ln(x)}{x^2 + 4n}\n",
    "$$\n",
    "P.S. используйте библиотеку `math`"
   ]
  },
  {
   "cell_type": "code",
   "execution_count": 53,
   "id": "b4698ba6",
   "metadata": {},
   "outputs": [],
   "source": [
    "import math\n",
    "\n",
    "def custom_function_1(x, n):\n",
    "    \"\"\"\n",
    "    Реализуйте функцию, описанную выше.\n",
    "    \"\"\"\n",
    "    # TODO: напиши меня\n",
    "    l = list(((n + 2)**x + math.log(x)) / (x**2 + 4*n) for n in range (1, n + 1))\n",
    "\n",
    "    rez = 1\n",
    "    for item in l:\n",
    "        rez *= item\n",
    "    return rez\n",
    "    pass\n",
    "\n",
    "\n",
    "assert round(custom_function_1(2, 3), 3) == 2.707\n",
    "assert round(custom_function_1(3, 2), 3) == 8.277\n",
    "assert round(custom_function_1(3, 3), 3) == 49.7"
   ]
  },
  {
   "cell_type": "markdown",
   "id": "79409870",
   "metadata": {},
   "source": [
    "# 2.2 Задачки на написание функций"
   ]
  },
  {
   "cell_type": "markdown",
   "id": "b1b313b9",
   "metadata": {},
   "source": [
    "1. Дано число n. С начала суток прошло n минут. Определите, сколько часов и минут будут показывать электронные часы в этот момент. Программа должна вывести два числа: количество часов (от 0 до 23) и количество минут (от 0 до 59). Учтите, что число n может быть больше, чем количество минут в сутках."
   ]
  },
  {
   "cell_type": "code",
   "execution_count": 59,
   "id": "42562c52",
   "metadata": {},
   "outputs": [
    {
     "name": "stdout",
     "output_type": "stream",
     "text": [
      "22 22\n"
     ]
    }
   ],
   "source": [
    "# Ваша задача здесь написать функцию time_converter (именно такое название)\n",
    "# она должна возвращать значения в виде строки 'hours minutes'\n",
    "\n",
    "def time_converter(input_minutes_str):\n",
    "    return str((int(input_minutes_str) // 60) % 24) + ' ' + str(int(input_minutes_str) % 60)\n",
    "\n",
    "assert time_converter(2782) == '22 22'\n",
    "assert time_converter(4733) == '6 53'\n",
    "assert time_converter(1766) == '5 26'\n",
    "assert time_converter(3865) == '16 25'\n",
    "assert time_converter(4628) == '5 8'\n",
    "assert time_converter(4353) == '0 33'\n",
    "assert time_converter(268) == '4 28'\n",
    "assert time_converter(4373) == '0 53'\n",
    "assert time_converter(2722) == '21 22'\n",
    "assert time_converter(1531) == '1 31'"
   ]
  },
  {
   "cell_type": "markdown",
   "id": "824cbdcc",
   "metadata": {},
   "source": [
    "---\n",
    "2. Написать функцию, которая выводит минимум из трех чисел. Использовать `min` нельзя. Только `if`."
   ]
  },
  {
   "cell_type": "code",
   "execution_count": 66,
   "id": "23a5e2ef",
   "metadata": {},
   "outputs": [],
   "source": [
    "# Написать функцию min_of_three_values, принимает на вход 3 аргумента \n",
    "\n",
    "def min_of_three_values(n1, n2, n3):\n",
    "    if n1 <= n2 and n1 <= n3:\n",
    "        return n1\n",
    "    elif n2 <= n1 and n2 <= n3:\n",
    "        return n2\n",
    "    else:\n",
    "        return n3\n",
    "\n",
    "assert min_of_three_values(1, 2, 3) == 1\n",
    "assert min_of_three_values(1, 1, 9) == 1\n",
    "assert min_of_three_values(18, 7, 11) == 7\n",
    "assert min_of_three_values(2, 10, 10) == 2\n",
    "assert min_of_three_values(17, 14, 17) == 14\n",
    "assert min_of_three_values(9, 2, 10) == 2\n",
    "assert min_of_three_values(7, 4, 7) == 4\n",
    "assert min_of_three_values(0, 8, 3) == 0\n",
    "assert min_of_three_values(8, 10, 6) == 6\n",
    "assert min_of_three_values(1, 4, 8) == 1"
   ]
  },
  {
   "cell_type": "markdown",
   "id": "414dc710",
   "metadata": {},
   "source": [
    "---\n",
    "3. Удаление символа из строки. Необходимо использовать встроенный метод `.replace()`"
   ]
  },
  {
   "cell_type": "code",
   "execution_count": 67,
   "id": "3a131bb4",
   "metadata": {},
   "outputs": [],
   "source": [
    "# Функция remove_symbol принимает два аргумента -- строку и символ, которые необходимо удалить\n",
    "\n",
    "def remove_symbol(input_str, input_char):\n",
    "    return input_str.replace(input_char, '')\n",
    "\n",
    "assert remove_symbol('aaaaaaaa', 'a') == ''\n",
    "assert remove_symbol('abababa', 'b') == 'aaaa'\n",
    "assert remove_symbol('12341234', '3') == '124124'"
   ]
  },
  {
   "cell_type": "markdown",
   "id": "b6881076",
   "metadata": {},
   "source": [
    "---\n",
    "4. Удаление каждого 3 символа из строки "
   ]
  },
  {
   "cell_type": "code",
   "execution_count": 117,
   "id": "52279032",
   "metadata": {},
   "outputs": [],
   "source": [
    "# Функция remove_each_third_sym принимает один агрумент -- строку.\n",
    "# важно -- мы считаем человеческие индексы (начиная с 1, а не 0)\n",
    "# важно -- оставляем первый аргумент\n",
    "# Необходимо вернуть новую строку \n",
    "\n",
    "def remove_each_third_sym(input_str):\n",
    "    rez_str = ''\n",
    "    for i in range(0, len(input_str)):\n",
    "        if (i + 1) % 3 != 0:\n",
    "            rez_str += input_str[i]\n",
    "    return rez_str\n",
    "\n",
    "    # for i in range(0, len(input_str)):\n",
    "    #     count_deleted = 0\n",
    "    #     if ((i + 1) % 3) == 0:\n",
    "    #         input_str = input_str.replace(input_str[i - count_deleted], '', 1) # replace не заменяет по индексу, а лишь первое(ые) вхождения\n",
    "    #         count_deleted += 1\n",
    "    #         print (input_str, count_deleted)\n",
    "    # return input_str\n",
    "\n",
    "assert remove_each_third_sym('abcdef') == 'abde'\n",
    "assert remove_each_third_sym('sdfasdfasdfsfa') == 'sdasfadffa'\n",
    "assert remove_each_third_sym('123456789') == '124578'\n",
    "assert remove_each_third_sym('987654321') == '986532'"
   ]
  },
  {
   "cell_type": "markdown",
   "id": "7c72f3ac",
   "metadata": {},
   "source": [
    "--- \n",
    "5. Вывести максимальный элемент и его индекс в листе"
   ]
  },
  {
   "cell_type": "code",
   "execution_count": 126,
   "id": "789f7d5c",
   "metadata": {},
   "outputs": [],
   "source": [
    "# Функция find_max принимает на вход лист \n",
    "# на выходе два числа -- непосредственно максимальное значение и его индекс \n",
    "import math\n",
    "\n",
    "def find_max(input_list):\n",
    "    max_item = max(input_list)\n",
    "    max_index = input_list.index(max_item)\n",
    "    return max_item, max_index\n",
    "\n",
    "\n",
    "# def find_max(input_list):\n",
    "#     max_item, max_index = -math.inf, -math.inf\n",
    "#     for i in range(0, len(input_list)):\n",
    "#         if input_list[i] >= max_item:\n",
    "#             max_item, max_index = input_list[i], i\n",
    "#     return max_item, max_index\n",
    "\n",
    "\n",
    "assert find_max([1, 2, 3, 4, 5]) == (5, 4)\n",
    "assert find_max([5, 4, 3, 2, 1]) == (5, 0)\n",
    "assert find_max([96, 82, 72, 48, 93, 88, 79]) == (96, 0)\n",
    "assert find_max([49, 75, 65, 65, 65, 18]) == (75, 1)\n",
    "assert find_max([69, 16, 64, 54, 36, 70, 89, 29]) == (89, 6)\n",
    "assert find_max([17, 80, 27, 36, 21, 85, 63, 27]) == (85, 5)\n",
    "assert find_max([76, 27, 73, 65, 52]) == (76, 0)\n",
    "assert find_max([33, 26, 69, 40, 93]) == (93, 4)\n",
    "assert find_max([87, 5, 95, 52, 21, 76, 22]) == (95, 2)\n",
    "assert find_max([75, 18, 89, 99, 70]) == (99, 3)"
   ]
  },
  {
   "cell_type": "markdown",
   "id": "a8cccf57",
   "metadata": {},
   "source": [
    "---\n",
    "6. Вставить элемент в конец листа. Использовать метод `append` можно и нужно"
   ]
  },
  {
   "cell_type": "code",
   "execution_count": 137,
   "id": "2c127a30",
   "metadata": {},
   "outputs": [],
   "source": [
    "# функция append_to_list принимает два значения -- лист и значение, которое необходимо вставить в конец листа\n",
    "# функция возвращает обновленный лист\n",
    "\n",
    "def append_to_list(input_list, append_num):\n",
    "    input_list.append(append_num)\n",
    "    return input_list\n",
    "\n",
    "assert append_to_list([1, 2], 3) == [1, 2, 3]\n",
    "assert append_to_list([1, 2], None) == [1, 2, None]\n",
    "assert append_to_list([1, 's'], True) == [1, 's', True]"
   ]
  },
  {
   "cell_type": "markdown",
   "id": "92d53320",
   "metadata": {},
   "source": [
    "---\n",
    "7. Количество уникальных чисел в листе. Нужно использовать множества (`set`)"
   ]
  },
  {
   "cell_type": "code",
   "execution_count": 138,
   "id": "e0d01126",
   "metadata": {},
   "outputs": [],
   "source": [
    "# функция number_unique_elements принимает на вход лист\n",
    "# на выходе одно число -- количество уникальных элементов\n",
    "\n",
    "def number_unique_elements(input_list):\n",
    "    return len(set(input_list))\n",
    "\n",
    "assert number_unique_elements([1, 2, 3]) == 3\n",
    "assert number_unique_elements([1, 2, 1]) == 2\n",
    "assert number_unique_elements([1, 1, 1, 1]) == 1\n",
    "assert number_unique_elements([1, 2, 1, 2]) == 2"
   ]
  },
  {
   "cell_type": "markdown",
   "id": "8c708395",
   "metadata": {},
   "source": [
    "# 3. Классы"
   ]
  },
  {
   "cell_type": "markdown",
   "id": "f40932c1",
   "metadata": {},
   "source": [
    "Напишите класс Vehicle с двумя атрибутами -- максимальная скорость (max_speed) и пробег (mileage)  \n",
    "Необходимо реализовать только метод-конструктор `__init__`"
   ]
  },
  {
   "cell_type": "code",
   "execution_count": 139,
   "id": "571b128c",
   "metadata": {},
   "outputs": [],
   "source": [
    "class Vehicle:\n",
    "    # TODO\n",
    "    def __init__(self, max_speed, mileage):\n",
    "        self.max_speed = max_speed\n",
    "        self.mileage = mileage\n",
    "    \n",
    "\n",
    "\n",
    "veh1 = Vehicle(100, 50)\n",
    "assert (veh1.max_speed, veh1.mileage) == (100, 50)\n",
    "\n",
    "veh2 = Vehicle(200, 3)\n",
    "assert (veh2.max_speed, veh2.mileage) == (200, 3)"
   ]
  },
  {
   "cell_type": "markdown",
   "id": "372f9a40",
   "metadata": {},
   "source": [
    "Напишите класс Truck, который наследуется от Vehicle  \n",
    "P.S. Наследование возможно при помощи конструкции class Subclass(MotherClass):"
   ]
  },
  {
   "cell_type": "code",
   "execution_count": 142,
   "id": "3f9d8321",
   "metadata": {},
   "outputs": [],
   "source": [
    "class Truck(Vehicle):\n",
    "    # TODO\n",
    "    pass\n",
    "\n",
    "\n",
    "truck1 = Truck(50, 1000)\n",
    "assert (truck1.max_speed, truck1.mileage) == (50, 1000)\n",
    "\n",
    "truck2 = Truck(43, 235)\n",
    "assert (truck2.max_speed, truck2.mileage) == (43, 235)"
   ]
  },
  {
   "cell_type": "markdown",
   "id": "2b232225",
   "metadata": {},
   "source": [
    "Напишите класс MyList с функционалом, как описано ниже"
   ]
  },
  {
   "cell_type": "code",
   "execution_count": 168,
   "id": "b9a4db60",
   "metadata": {},
   "outputs": [],
   "source": [
    "class MyList:\n",
    "    def __init__(self, input_list):\n",
    "        # TODO: напиши меня\n",
    "        self.input_list = input_list\n",
    "    \n",
    "    def return_sum(self):\n",
    "        \"\"\"\n",
    "        Возвращает сумму всех элементов сохраненного листа.\n",
    "        Пользоваться sum нельзя!\n",
    "        \"\"\"\n",
    "        # TODO: напиши меня\n",
    "        sum_ = 0\n",
    "        for item in self.input_list:\n",
    "            sum_ += item\n",
    "        return sum_\n",
    "    \n",
    "    def make_reverse(self):\n",
    "        \"\"\"\n",
    "        Разворачивает сохраненный лист.\n",
    "        \"\"\"\n",
    "        # TODO: напиши меня\n",
    "        inverted_list = self.input_list[-1:-(len(self.input_list) + 1):-1]\n",
    "        return inverted_list\n",
    "    \n",
    "    def make_slice(self, start, stop):\n",
    "        \"\"\"\n",
    "        Делает слайсинг сохраненного листа.\n",
    "        \"\"\"\n",
    "        # TODO: напиши меня\n",
    "        return (self.input_list[start:stop])\n",
    "        \n",
    "    \n",
    "a = MyList([1, 2, 3, 4])\n",
    "assert a.return_sum() == 10\n",
    "assert a.make_reverse() == [4, 3, 2, 1]\n",
    "assert a.make_slice(0, 2) == [1, 2]\n",
    "\n",
    "b = MyList([5, 6, 6, 5])\n",
    "assert b.return_sum() == 22\n",
    "assert b.make_reverse() == [5, 6, 6, 5]\n",
    "assert b.make_slice(1, 2) == [6]"
   ]
  },
  {
   "cell_type": "code",
   "execution_count": null,
   "id": "646dac5a",
   "metadata": {},
   "outputs": [],
   "source": []
  }
 ],
 "metadata": {
  "kernelspec": {
   "display_name": "Python 3",
   "language": "python",
   "name": "python3"
  },
  "language_info": {
   "codemirror_mode": {
    "name": "ipython",
    "version": 3
   },
   "file_extension": ".py",
   "mimetype": "text/x-python",
   "name": "python",
   "nbconvert_exporter": "python",
   "pygments_lexer": "ipython3",
   "version": "3.12.6"
  }
 },
 "nbformat": 4,
 "nbformat_minor": 5
}
